{
 "cells": [
  {
   "cell_type": "markdown",
   "metadata": {},
   "source": [
    "# Инференс модели в kserve"
   ]
  },
  {
   "cell_type": "code",
   "execution_count": 15,
   "metadata": {},
   "outputs": [],
   "source": [
    "import json\n",
    "import requests"
   ]
  },
  {
   "cell_type": "markdown",
   "metadata": {},
   "source": [
    "Функция для отправки запроса к модели"
   ]
  },
  {
   "cell_type": "code",
   "execution_count": 13,
   "metadata": {},
   "outputs": [],
   "source": [
    "def infer(text):\n",
    "    api = 'http://kserve:8080/v1/models/NERtagger:predict'\n",
    "    headers = {'Content-type': 'application/json', 'Accept': '*/*'}\n",
    "    payload = json.dumps({\"text\": text})\n",
    "    response = requests.post(api, data=payload, headers=headers)\n",
    "    try:\n",
    "        data = response.json()     \n",
    "        return data                \n",
    "    except requests.exceptions.RequestException:\n",
    "        print(response.text)"
   ]
  },
  {
   "cell_type": "markdown",
   "metadata": {},
   "source": [
    "Ответ модели отправляется в формате JSON:\n",
    "\n",
    "```json\n",
    "{'text': sentence_text,\n",
    " 'entities': [\n",
    "             {'text': entitie_text, 'type': entitie_type, 'start': start, 'end': end},\n",
    "             ...\n",
    "             {'text': entitie_text, 'type': entitie_type, 'start': start, 'end': end}\n",
    "             ]\n",
    "}\n",
    "```\n",
    "\n",
    "Здесь:\n",
    "\n",
    "- *sentence_text* : текст предложения (запроса)\n",
    "- *entities* : список сущностей\n",
    "- *entitie_text* : текст сущности\n",
    "- *entitie_type* : тип сущности\n",
    "- *start* : начало сущности в исходном тексте\n",
    "- *stop* : конец сущности в исходном тексте\n",
    "\n",
    "Проверим ответ на предложении:"
   ]
  },
  {
   "cell_type": "code",
   "execution_count": 17,
   "metadata": {},
   "outputs": [],
   "source": [
    "text='Глава компании Apple Тим Кук осенью представил новый телефон в штаб квартире Apple Inc в Купертино'"
   ]
  },
  {
   "cell_type": "code",
   "execution_count": 64,
   "metadata": {},
   "outputs": [
    {
     "name": "stdout",
     "output_type": "stream",
     "text": [
      "CPU times: user 3.78 ms, sys: 1.69 ms, total: 5.47 ms\n",
      "Wall time: 518 ms\n"
     ]
    },
    {
     "data": {
      "text/plain": [
       "{'text': 'Глава компании Apple Тим Кук осенью представил новый телефон в штаб квартире Apple Inc в Купертино',\n",
       " 'entities': [{'text': 'глава', 'type': 'O', 'start': 0, 'end': 5},\n",
       "  {'text': 'компании', 'type': 'O', 'start': 0, 'end': 14},\n",
       "  {'text': 'apple', 'type': 'ORG', 'start': 6, 'end': 20},\n",
       "  {'text': 'тим кук', 'type': 'PER', 'start': 18, 'end': 28},\n",
       "  {'text': 'осенью', 'type': 'O', 'start': 27, 'end': 35},\n",
       "  {'text': 'представил', 'type': 'O', 'start': 29, 'end': 46},\n",
       "  {'text': 'новыи', 'type': 'O', 'start': 36, 'end': 52},\n",
       "  {'text': 'телефон', 'type': 'O', 'start': 51, 'end': 60},\n",
       "  {'text': 'в', 'type': 'O', 'start': 53, 'end': 62},\n",
       "  {'text': 'штаб', 'type': 'O', 'start': 61, 'end': 67},\n",
       "  {'text': 'квартире', 'type': 'O', 'start': 63, 'end': 76},\n",
       "  {'text': 'apple inc', 'type': 'ORG', 'start': 68, 'end': 86},\n",
       "  {'text': 'в', 'type': 'O', 'start': 83, 'end': 88},\n",
       "  {'text': 'купертино', 'type': 'LOC', 'start': 87, 'end': 98}]}"
      ]
     },
     "execution_count": 64,
     "metadata": {},
     "output_type": "execute_result"
    }
   ],
   "source": [
    "%time outputs = infer(text)\n",
    "outputs"
   ]
  },
  {
   "cell_type": "markdown",
   "metadata": {},
   "source": [
    "Проверим работу сервиса при множественных запросах"
   ]
  },
  {
   "cell_type": "code",
   "execution_count": 66,
   "metadata": {},
   "outputs": [
    {
     "name": "stdout",
     "output_type": "stream",
     "text": [
      "CPU times: user 204 ms, sys: 37.1 ms, total: 241 ms\n",
      "Wall time: 42.3 s\n"
     ]
    }
   ],
   "source": [
    "%time [infer(text) for i in range(100)]\n",
    "None"
   ]
  },
  {
   "cell_type": "markdown",
   "metadata": {},
   "source": [
    "На 100 запросов понадобилось 42.3 секунды. В среднем 423 мс"
   ]
  }
 ],
 "metadata": {
  "kernelspec": {
   "display_name": "Python 3 (ipykernel)",
   "language": "python",
   "name": "python3"
  },
  "language_info": {
   "codemirror_mode": {
    "name": "ipython",
    "version": 3
   },
   "file_extension": ".py",
   "mimetype": "text/x-python",
   "name": "python",
   "nbconvert_exporter": "python",
   "pygments_lexer": "ipython3",
   "version": "3.9.18"
  }
 },
 "nbformat": 4,
 "nbformat_minor": 4
}
